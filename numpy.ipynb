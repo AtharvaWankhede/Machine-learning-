{
  "nbformat": 4,
  "nbformat_minor": 0,
  "metadata": {
    "colab": {
      "name": "Untitled12.ipynb",
      "provenance": []
    },
    "kernelspec": {
      "name": "python3",
      "display_name": "Python 3"
    },
    "language_info": {
      "name": "python"
    }
  },
  "cells": [
    {
      "cell_type": "code",
      "metadata": {
        "id": "1j4mSXnoWeBT"
      },
      "source": [
        "#pip install numpy -- command to install numpy using pip"
      ],
      "execution_count": null,
      "outputs": []
    },
    {
      "cell_type": "code",
      "metadata": {
        "id": "j-GLYaT0WkAw"
      },
      "source": [
        "import numpy as np"
      ],
      "execution_count": 2,
      "outputs": []
    },
    {
      "cell_type": "code",
      "metadata": {
        "id": "9iKZHpjnWm3B"
      },
      "source": [
        "mylist1=[1,2,3,4,5,6]\n"
      ],
      "execution_count": 3,
      "outputs": []
    },
    {
      "cell_type": "code",
      "metadata": {
        "id": "F7ic81aHWzc6"
      },
      "source": [
        "arr1=np.array(mylist1) #converting list into array using np.array function"
      ],
      "execution_count": 4,
      "outputs": []
    },
    {
      "cell_type": "code",
      "metadata": {
        "colab": {
          "base_uri": "https://localhost:8080/"
        },
        "id": "GnhqbFXbXRnY",
        "outputId": "fa483f97-c6a5-4147-8bf9-c794044dabe7"
      },
      "source": [
        "arr1"
      ],
      "execution_count": 5,
      "outputs": [
        {
          "output_type": "execute_result",
          "data": {
            "text/plain": [
              "array([1, 2, 3, 4, 5, 6])"
            ]
          },
          "metadata": {
            "tags": []
          },
          "execution_count": 5
        }
      ]
    },
    {
      "cell_type": "code",
      "metadata": {
        "colab": {
          "base_uri": "https://localhost:8080/"
        },
        "id": "iEcj9FxoXW_z",
        "outputId": "b3314dd1-3045-4986-fef5-40b2bbb295cc"
      },
      "source": [
        "type(arr1)"
      ],
      "execution_count": 6,
      "outputs": [
        {
          "output_type": "execute_result",
          "data": {
            "text/plain": [
              "numpy.ndarray"
            ]
          },
          "metadata": {
            "tags": []
          },
          "execution_count": 6
        }
      ]
    },
    {
      "cell_type": "code",
      "metadata": {
        "colab": {
          "base_uri": "https://localhost:8080/"
        },
        "id": "sBjpfi8lXhfH",
        "outputId": "59f21f08-d937-4423-e150-e02641b0e633"
      },
      "source": [
        "arr1.shape  #showing that it is a single dimentional array with 6 elements"
      ],
      "execution_count": 7,
      "outputs": [
        {
          "output_type": "execute_result",
          "data": {
            "text/plain": [
              "(6,)"
            ]
          },
          "metadata": {
            "tags": []
          },
          "execution_count": 7
        }
      ]
    },
    {
      "cell_type": "code",
      "metadata": {
        "id": "KO20zTdSXs9v"
      },
      "source": [
        "mylist_1=[1,2,3,4,5,6]\n",
        "mylist_2=[7,8,9,8,7,6]\n",
        "mylist_3=[0,0,1,1,2,2]"
      ],
      "execution_count": 8,
      "outputs": []
    },
    {
      "cell_type": "code",
      "metadata": {
        "id": "Pkh3Q_6zX_HW"
      },
      "source": [
        "arr2=np.array([mylist_1,mylist_2,mylist_3])"
      ],
      "execution_count": 9,
      "outputs": []
    },
    {
      "cell_type": "code",
      "metadata": {
        "colab": {
          "base_uri": "https://localhost:8080/"
        },
        "id": "ZYiJK9J0YM1O",
        "outputId": "bd952748-d116-430f-c099-67fcaff49284"
      },
      "source": [
        "arr2"
      ],
      "execution_count": 10,
      "outputs": [
        {
          "output_type": "execute_result",
          "data": {
            "text/plain": [
              "array([[1, 2, 3, 4, 5, 6],\n",
              "       [7, 8, 9, 8, 7, 6],\n",
              "       [0, 0, 1, 1, 2, 2]])"
            ]
          },
          "metadata": {
            "tags": []
          },
          "execution_count": 10
        }
      ]
    },
    {
      "cell_type": "code",
      "metadata": {
        "colab": {
          "base_uri": "https://localhost:8080/"
        },
        "id": "7ofsl96VYQwI",
        "outputId": "60849ccf-8d7a-4477-e391-1c609863f413"
      },
      "source": [
        "arr2.shape #3-number of rows 6-number of colums"
      ],
      "execution_count": 11,
      "outputs": [
        {
          "output_type": "execute_result",
          "data": {
            "text/plain": [
              "(3, 6)"
            ]
          },
          "metadata": {
            "tags": []
          },
          "execution_count": 11
        }
      ]
    },
    {
      "cell_type": "code",
      "metadata": {
        "colab": {
          "base_uri": "https://localhost:8080/"
        },
        "id": "E9dEueLJYcJn",
        "outputId": "28e77326-0be2-420c-82e0-8d2373a43c89"
      },
      "source": [
        "arr2.reshape(2,9) # changing dimensions of array"
      ],
      "execution_count": 12,
      "outputs": [
        {
          "output_type": "execute_result",
          "data": {
            "text/plain": [
              "array([[1, 2, 3, 4, 5, 6, 7, 8, 9],\n",
              "       [8, 7, 6, 0, 0, 1, 1, 2, 2]])"
            ]
          },
          "metadata": {
            "tags": []
          },
          "execution_count": 12
        }
      ]
    },
    {
      "cell_type": "code",
      "metadata": {
        "colab": {
          "base_uri": "https://localhost:8080/"
        },
        "id": "c4rasYWYcZe0",
        "outputId": "6daf32a0-6e93-4365-aa1e-c0ec73f061ec"
      },
      "source": [
        "arr2.reshape(3,6)"
      ],
      "execution_count": 13,
      "outputs": [
        {
          "output_type": "execute_result",
          "data": {
            "text/plain": [
              "array([[1, 2, 3, 4, 5, 6],\n",
              "       [7, 8, 9, 8, 7, 6],\n",
              "       [0, 0, 1, 1, 2, 2]])"
            ]
          },
          "metadata": {
            "tags": []
          },
          "execution_count": 13
        }
      ]
    },
    {
      "cell_type": "markdown",
      "metadata": {
        "id": "MLvoS8Xydbnp"
      },
      "source": [
        "###Performing slicing operations on array###"
      ]
    },
    {
      "cell_type": "code",
      "metadata": {
        "colab": {
          "base_uri": "https://localhost:8080/"
        },
        "id": "YZaXc9YBcmad",
        "outputId": "59f2a491-973d-4710-b27e-d3b37c4732f4"
      },
      "source": [
        "#performing slicing\n",
        "arr2[:,:]"
      ],
      "execution_count": 14,
      "outputs": [
        {
          "output_type": "execute_result",
          "data": {
            "text/plain": [
              "array([[1, 2, 3, 4, 5, 6],\n",
              "       [7, 8, 9, 8, 7, 6],\n",
              "       [0, 0, 1, 1, 2, 2]])"
            ]
          },
          "metadata": {
            "tags": []
          },
          "execution_count": 14
        }
      ]
    },
    {
      "cell_type": "code",
      "metadata": {
        "colab": {
          "base_uri": "https://localhost:8080/"
        },
        "id": "-_x0ovwocf2_",
        "outputId": "be0cd0be-3c2b-4d31-ba62-7bee506ca610"
      },
      "source": [
        "#displaying all rows and colums from index 3 to end\n",
        "arr2[:,3:]"
      ],
      "execution_count": 15,
      "outputs": [
        {
          "output_type": "execute_result",
          "data": {
            "text/plain": [
              "array([[4, 5, 6],\n",
              "       [8, 7, 6],\n",
              "       [1, 2, 2]])"
            ]
          },
          "metadata": {
            "tags": []
          },
          "execution_count": 15
        }
      ]
    },
    {
      "cell_type": "code",
      "metadata": {
        "colab": {
          "base_uri": "https://localhost:8080/"
        },
        "id": "I-450b8fc3gz",
        "outputId": "4120193b-87fe-4fe6-f8b2-e1201dacba2a"
      },
      "source": [
        "#displaying elements on locations arr2[1][2],arr[1][3],arr[1][4] i.e 9,8,7\n",
        "arr2[1:2,2:5]"
      ],
      "execution_count": 16,
      "outputs": [
        {
          "output_type": "execute_result",
          "data": {
            "text/plain": [
              "array([[9, 8, 7]])"
            ]
          },
          "metadata": {
            "tags": []
          },
          "execution_count": 16
        }
      ]
    },
    {
      "cell_type": "code",
      "metadata": {
        "colab": {
          "base_uri": "https://localhost:8080/"
        },
        "id": "TkYnt1S6dZ4W",
        "outputId": "ef798204-7910-4d3c-ac5b-5ae9a34a83e8"
      },
      "source": [
        "#displaying elements 5th column only i.e 5,7,2 elements\n",
        "arr2[:,4:5]"
      ],
      "execution_count": 17,
      "outputs": [
        {
          "output_type": "execute_result",
          "data": {
            "text/plain": [
              "array([[5],\n",
              "       [7],\n",
              "       [2]])"
            ]
          },
          "metadata": {
            "tags": []
          },
          "execution_count": 17
        }
      ]
    },
    {
      "cell_type": "code",
      "metadata": {
        "id": "gJQQYpOBd-sj"
      },
      "source": [
        "arr2=np.arange(0,10)"
      ],
      "execution_count": 18,
      "outputs": []
    },
    {
      "cell_type": "code",
      "metadata": {
        "colab": {
          "base_uri": "https://localhost:8080/"
        },
        "id": "JxytrtWDeS4m",
        "outputId": "984c3d76-bd86-4dd8-f960-02469811a70b"
      },
      "source": [
        "arr2"
      ],
      "execution_count": 19,
      "outputs": [
        {
          "output_type": "execute_result",
          "data": {
            "text/plain": [
              "array([0, 1, 2, 3, 4, 5, 6, 7, 8, 9])"
            ]
          },
          "metadata": {
            "tags": []
          },
          "execution_count": 19
        }
      ]
    },
    {
      "cell_type": "code",
      "metadata": {
        "id": "Cfugaj2xgQ0S"
      },
      "source": [
        "arr2=np.arange(0,20,step=2)"
      ],
      "execution_count": 20,
      "outputs": []
    },
    {
      "cell_type": "code",
      "metadata": {
        "colab": {
          "base_uri": "https://localhost:8080/"
        },
        "id": "LlDquPA5gbWz",
        "outputId": "c298eef7-969e-45bf-d7c5-08f8a3c6ef8e"
      },
      "source": [
        "arr2"
      ],
      "execution_count": null,
      "outputs": [
        {
          "output_type": "execute_result",
          "data": {
            "text/plain": [
              "array([ 0,  2,  4,  6,  8, 10, 12, 14, 16, 18])"
            ]
          },
          "metadata": {
            "tags": []
          },
          "execution_count": 38
        }
      ]
    },
    {
      "cell_type": "markdown",
      "metadata": {
        "id": "4R8TeUctelw1"
      },
      "source": [
        "performing some operations on array"
      ]
    },
    {
      "cell_type": "code",
      "metadata": {
        "id": "C3-y34IgeVpC"
      },
      "source": [
        "arr2[3:]=100"
      ],
      "execution_count": 21,
      "outputs": []
    },
    {
      "cell_type": "code",
      "metadata": {
        "colab": {
          "base_uri": "https://localhost:8080/"
        },
        "id": "B0gl5PM_eidf",
        "outputId": "5aed5784-c462-471c-9622-ff5feeafbdf7"
      },
      "source": [
        "arr2"
      ],
      "execution_count": 22,
      "outputs": [
        {
          "output_type": "execute_result",
          "data": {
            "text/plain": [
              "array([  0,   2,   4, 100, 100, 100, 100, 100, 100, 100])"
            ]
          },
          "metadata": {
            "tags": []
          },
          "execution_count": 22
        }
      ]
    },
    {
      "cell_type": "code",
      "metadata": {
        "id": "PX_qWAyPeqLT",
        "colab": {
          "base_uri": "https://localhost:8080/"
        },
        "outputId": "7896ce13-e220-4959-e403-c9ce141f1841"
      },
      "source": [
        "np.linspace(1,10,5)"
      ],
      "execution_count": 25,
      "outputs": [
        {
          "output_type": "execute_result",
          "data": {
            "text/plain": [
              "array([ 1.  ,  3.25,  5.5 ,  7.75, 10.  ])"
            ]
          },
          "metadata": {
            "tags": []
          },
          "execution_count": 25
        }
      ]
    },
    {
      "cell_type": "code",
      "metadata": {
        "colab": {
          "base_uri": "https://localhost:8080/"
        },
        "id": "WldSXOXKJFCg",
        "outputId": "38f69c76-cf5e-4fa6-fa7c-7bfac03ce89b"
      },
      "source": [
        "arr2"
      ],
      "execution_count": 26,
      "outputs": [
        {
          "output_type": "execute_result",
          "data": {
            "text/plain": [
              "array([  0,   2,   4, 100, 100, 100, 100, 100, 100, 100])"
            ]
          },
          "metadata": {
            "tags": []
          },
          "execution_count": 26
        }
      ]
    },
    {
      "cell_type": "code",
      "metadata": {
        "id": "S--4f2oCJr_w"
      },
      "source": [
        "arr3=arr2.copy()"
      ],
      "execution_count": 27,
      "outputs": []
    },
    {
      "cell_type": "code",
      "metadata": {
        "id": "kS0rq2UAJwFt"
      },
      "source": [
        "arr3[3:]=500"
      ],
      "execution_count": 30,
      "outputs": []
    },
    {
      "cell_type": "code",
      "metadata": {
        "colab": {
          "base_uri": "https://localhost:8080/"
        },
        "id": "ch9HyiD4J5Io",
        "outputId": "8f16e0f2-9a6c-4926-d613-cdc3e9782446"
      },
      "source": [
        "arr3\n"
      ],
      "execution_count": 32,
      "outputs": [
        {
          "output_type": "execute_result",
          "data": {
            "text/plain": [
              "array([  0,   2,   4, 500, 500, 500, 500, 500, 500, 500])"
            ]
          },
          "metadata": {
            "tags": []
          },
          "execution_count": 32
        }
      ]
    },
    {
      "cell_type": "code",
      "metadata": {
        "colab": {
          "base_uri": "https://localhost:8080/"
        },
        "id": "osfcKle-J9m6",
        "outputId": "2194b16b-a7a7-45d3-b26b-5e6df3b1c9aa"
      },
      "source": [
        "arr2"
      ],
      "execution_count": 33,
      "outputs": [
        {
          "output_type": "execute_result",
          "data": {
            "text/plain": [
              "array([  0,   2,   4, 100, 100, 100, 100, 100, 100, 100])"
            ]
          },
          "metadata": {
            "tags": []
          },
          "execution_count": 33
        }
      ]
    },
    {
      "cell_type": "code",
      "metadata": {
        "colab": {
          "base_uri": "https://localhost:8080/"
        },
        "id": "Fyw3FPqMJ9wA",
        "outputId": "a1926cdc-d97a-4755-d0bd-299f32555711"
      },
      "source": [
        "val=2\n",
        "arr2<4"
      ],
      "execution_count": 35,
      "outputs": [
        {
          "output_type": "execute_result",
          "data": {
            "text/plain": [
              "array([ True,  True, False, False, False, False, False, False, False,\n",
              "       False])"
            ]
          },
          "metadata": {
            "tags": []
          },
          "execution_count": 35
        }
      ]
    },
    {
      "cell_type": "code",
      "metadata": {
        "colab": {
          "base_uri": "https://localhost:8080/"
        },
        "id": "eQ_2LvDJKTJS",
        "outputId": "eef3ed2c-a1bd-4101-8a12-8301e21b679f"
      },
      "source": [
        "arr2[arr2<4] #printing values that are less than 4"
      ],
      "execution_count": 38,
      "outputs": [
        {
          "output_type": "execute_result",
          "data": {
            "text/plain": [
              "array([0, 2])"
            ]
          },
          "metadata": {
            "tags": []
          },
          "execution_count": 38
        }
      ]
    },
    {
      "cell_type": "code",
      "metadata": {
        "colab": {
          "base_uri": "https://localhost:8080/"
        },
        "id": "ARe_6y_mKkrc",
        "outputId": "66e524ca-1859-4405-8a59-39ca533fa923"
      },
      "source": [
        "np.ones(3,dtype=int)"
      ],
      "execution_count": 40,
      "outputs": [
        {
          "output_type": "execute_result",
          "data": {
            "text/plain": [
              "array([1, 1, 1])"
            ]
          },
          "metadata": {
            "tags": []
          },
          "execution_count": 40
        }
      ]
    },
    {
      "cell_type": "code",
      "metadata": {
        "colab": {
          "base_uri": "https://localhost:8080/"
        },
        "id": "zTWJdHRhKubg",
        "outputId": "b2cbb1ba-526c-4af0-9297-a7b26c64475a"
      },
      "source": [
        "np.ones((2,5), dtype=float)"
      ],
      "execution_count": 47,
      "outputs": [
        {
          "output_type": "execute_result",
          "data": {
            "text/plain": [
              "array([[1., 1., 1., 1., 1.],\n",
              "       [1., 1., 1., 1., 1.]])"
            ]
          },
          "metadata": {
            "tags": []
          },
          "execution_count": 47
        }
      ]
    },
    {
      "cell_type": "code",
      "metadata": {
        "colab": {
          "base_uri": "https://localhost:8080/"
        },
        "id": "kOYHL1XhLDWf",
        "outputId": "19b2966c-12ed-4a42-f0fb-0476399cc20c"
      },
      "source": [
        "np.random.rand(3,4)"
      ],
      "execution_count": 49,
      "outputs": [
        {
          "output_type": "execute_result",
          "data": {
            "text/plain": [
              "array([[0.16195449, 0.54936301, 0.59918671, 0.45005769],\n",
              "       [0.21268736, 0.56536591, 0.30560069, 0.32740425],\n",
              "       [0.59402448, 0.41091409, 0.17165015, 0.6835918 ]])"
            ]
          },
          "metadata": {
            "tags": []
          },
          "execution_count": 49
        }
      ]
    },
    {
      "cell_type": "code",
      "metadata": {
        "id": "a2WdPMhcLSwJ"
      },
      "source": [
        "a=np.random.randn(3,4)"
      ],
      "execution_count": 57,
      "outputs": []
    },
    {
      "cell_type": "code",
      "metadata": {
        "colab": {
          "base_uri": "https://localhost:8080/"
        },
        "id": "e_XnkwlLL6Co",
        "outputId": "28fd5691-2db7-4b56-a3e9-3edb3368f89a"
      },
      "source": [
        "a"
      ],
      "execution_count": 58,
      "outputs": [
        {
          "output_type": "execute_result",
          "data": {
            "text/plain": [
              "array([[-0.04265203, -0.78029942, -2.02076191, -1.78876491],\n",
              "       [ 1.18901746,  0.56232208,  0.98975195,  0.26156994],\n",
              "       [ 1.0693645 ,  0.6324181 ,  0.00452993, -1.9598389 ]])"
            ]
          },
          "metadata": {
            "tags": []
          },
          "execution_count": 58
        }
      ]
    },
    {
      "cell_type": "code",
      "metadata": {
        "id": "UmKJTeDLLf6x"
      },
      "source": [
        "import seaborn as sns"
      ],
      "execution_count": 52,
      "outputs": []
    },
    {
      "cell_type": "code",
      "metadata": {
        "id": "6c4i8EPFLuig"
      },
      "source": [
        "import pandas as pd"
      ],
      "execution_count": 55,
      "outputs": []
    },
    {
      "cell_type": "code",
      "metadata": {
        "colab": {
          "base_uri": "https://localhost:8080/",
          "height": 337
        },
        "id": "0BxLhq6bLimG",
        "outputId": "69d4b984-d3f1-4a11-b37f-1582bb529716"
      },
      "source": [
        "sns.distplot(pd.DataFrame(a.reshape(4,3)))"
      ],
      "execution_count": 61,
      "outputs": [
        {
          "output_type": "stream",
          "text": [
            "/usr/local/lib/python3.7/dist-packages/seaborn/distributions.py:2557: FutureWarning: `distplot` is a deprecated function and will be removed in a future version. Please adapt your code to use either `displot` (a figure-level function with similar flexibility) or `histplot` (an axes-level function for histograms).\n",
            "  warnings.warn(msg, FutureWarning)\n"
          ],
          "name": "stderr"
        },
        {
          "output_type": "execute_result",
          "data": {
            "text/plain": [
              "<matplotlib.axes._subplots.AxesSubplot at 0x7f062ea10a50>"
            ]
          },
          "metadata": {
            "tags": []
          },
          "execution_count": 61
        },
        {
          "output_type": "display_data",
          "data": {
            "image/png": "[encoded data removed]",
            "text/plain": [
              "<Figure size 432x288 with 1 Axes>"
            ]
          },
          "metadata": {
            "tags": [],
            "needs_background": "light"
          }
        }
      ]
    }
  ]
}