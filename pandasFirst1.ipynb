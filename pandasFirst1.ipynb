{
  "nbformat": 4,
  "nbformat_minor": 0,
  "metadata": {
    "colab": {
      "name": "Untitled13.ipynb",
      "provenance": []
    },
    "kernelspec": {
      "name": "python3",
      "display_name": "Python 3"
    },
    "language_info": {
      "name": "python"
    }
  },
  "cells": [
    {
      "cell_type": "markdown",
      "metadata": {
        "id": "YbreU63jURkM"
      },
      "source": [
        "**Pandas** is an open source python library for providing high performance and easy to use data structures and data analysis tools \n",
        "\n",
        "Pandas is mainly used for data manipulation."
      ]
    },
    {
      "cell_type": "code",
      "metadata": {
        "id": "ioodW1DGUTN9"
      },
      "source": [
        "import pandas as pd\n",
        "import numpy as np"
      ],
      "execution_count": 2,
      "outputs": []
    },
    {
      "cell_type": "code",
      "metadata": {
        "id": "oxWJlHFHTjxa"
      },
      "source": [
        "df=pd.DataFrame(np.random.rand(9,10).reshape(10,9),index=['row 1','row 2 ','row 3','row 4','row 5','row 6 ','row 7','row 8','row 9','row 10'])"
      ],
      "execution_count": 6,
      "outputs": []
    },
    {
      "cell_type": "code",
      "metadata": {
        "colab": {
          "base_uri": "https://localhost:8080/",
          "height": 355
        },
        "id": "3xf01WVjWbCI",
        "outputId": "2f081854-8541-4c32-a616-67643e2fd366"
      },
      "source": [
        "df"
      ],
      "execution_count": 7,
      "outputs": [
        {
          "output_type": "execute_result",
          "data": {
            "text/html": [
              "<div>\n",
              "<style scoped>\n",
              "    .dataframe tbody tr th:only-of-type {\n",
              "        vertical-align: middle;\n",
              "    }\n",
              "\n",
              "    .dataframe tbody tr th {\n",
              "        vertical-align: top;\n",
              "    }\n",
              "\n",
              "    .dataframe thead th {\n",
              "        text-align: right;\n",
              "    }\n",
              "</style>\n",
              "<table border=\"1\" class=\"dataframe\">\n",
              "  <thead>\n",
              "    <tr style=\"text-align: right;\">\n",
              "      <th></th>\n",
              "      <th>0</th>\n",
              "      <th>1</th>\n",
              "      <th>2</th>\n",
              "      <th>3</th>\n",
              "      <th>4</th>\n",
              "      <th>5</th>\n",
              "      <th>6</th>\n",
              "      <th>7</th>\n",
              "      <th>8</th>\n",
              "    </tr>\n",
              "  </thead>\n",
              "  <tbody>\n",
              "    <tr>\n",
              "      <th>row 1</th>\n",
              "      <td>0.530649</td>\n",
              "      <td>0.888118</td>\n",
              "      <td>0.527234</td>\n",
              "      <td>0.940012</td>\n",
              "      <td>0.725598</td>\n",
              "      <td>0.318463</td>\n",
              "      <td>0.473123</td>\n",
              "      <td>0.155253</td>\n",
              "      <td>0.921948</td>\n",
              "    </tr>\n",
              "    <tr>\n",
              "      <th>row 2</th>\n",
              "      <td>0.277602</td>\n",
              "      <td>0.367693</td>\n",
              "      <td>0.362415</td>\n",
              "      <td>0.947049</td>\n",
              "      <td>0.775439</td>\n",
              "      <td>0.024221</td>\n",
              "      <td>0.337543</td>\n",
              "      <td>0.013646</td>\n",
              "      <td>0.156494</td>\n",
              "    </tr>\n",
              "    <tr>\n",
              "      <th>row 3</th>\n",
              "      <td>0.689475</td>\n",
              "      <td>0.280727</td>\n",
              "      <td>0.222514</td>\n",
              "      <td>0.386906</td>\n",
              "      <td>0.277926</td>\n",
              "      <td>0.088432</td>\n",
              "      <td>0.081551</td>\n",
              "      <td>0.443671</td>\n",
              "      <td>0.830029</td>\n",
              "    </tr>\n",
              "    <tr>\n",
              "      <th>row 4</th>\n",
              "      <td>0.780380</td>\n",
              "      <td>0.998559</td>\n",
              "      <td>0.608070</td>\n",
              "      <td>0.389267</td>\n",
              "      <td>0.347717</td>\n",
              "      <td>0.537090</td>\n",
              "      <td>0.311574</td>\n",
              "      <td>0.225020</td>\n",
              "      <td>0.615077</td>\n",
              "    </tr>\n",
              "    <tr>\n",
              "      <th>row 5</th>\n",
              "      <td>0.861388</td>\n",
              "      <td>0.805721</td>\n",
              "      <td>0.220411</td>\n",
              "      <td>0.960960</td>\n",
              "      <td>0.607453</td>\n",
              "      <td>0.862082</td>\n",
              "      <td>0.235041</td>\n",
              "      <td>0.709467</td>\n",
              "      <td>0.564861</td>\n",
              "    </tr>\n",
              "    <tr>\n",
              "      <th>row 6</th>\n",
              "      <td>0.138975</td>\n",
              "      <td>0.258172</td>\n",
              "      <td>0.961590</td>\n",
              "      <td>0.083980</td>\n",
              "      <td>0.565577</td>\n",
              "      <td>0.992344</td>\n",
              "      <td>0.200288</td>\n",
              "      <td>0.435552</td>\n",
              "      <td>0.946054</td>\n",
              "    </tr>\n",
              "    <tr>\n",
              "      <th>row 7</th>\n",
              "      <td>0.377660</td>\n",
              "      <td>0.505723</td>\n",
              "      <td>0.770645</td>\n",
              "      <td>0.532464</td>\n",
              "      <td>0.655018</td>\n",
              "      <td>0.874520</td>\n",
              "      <td>0.605181</td>\n",
              "      <td>0.798876</td>\n",
              "      <td>0.331023</td>\n",
              "    </tr>\n",
              "    <tr>\n",
              "      <th>row 8</th>\n",
              "      <td>0.368674</td>\n",
              "      <td>0.121371</td>\n",
              "      <td>0.741256</td>\n",
              "      <td>0.830065</td>\n",
              "      <td>0.910725</td>\n",
              "      <td>0.099512</td>\n",
              "      <td>0.125042</td>\n",
              "      <td>0.296960</td>\n",
              "      <td>0.381510</td>\n",
              "    </tr>\n",
              "    <tr>\n",
              "      <th>row 9</th>\n",
              "      <td>0.160647</td>\n",
              "      <td>0.591190</td>\n",
              "      <td>0.905556</td>\n",
              "      <td>0.629128</td>\n",
              "      <td>0.839062</td>\n",
              "      <td>0.754671</td>\n",
              "      <td>0.335330</td>\n",
              "      <td>0.064799</td>\n",
              "      <td>0.687124</td>\n",
              "    </tr>\n",
              "    <tr>\n",
              "      <th>row 10</th>\n",
              "      <td>0.312243</td>\n",
              "      <td>0.780345</td>\n",
              "      <td>0.050835</td>\n",
              "      <td>0.555210</td>\n",
              "      <td>0.655438</td>\n",
              "      <td>0.845687</td>\n",
              "      <td>0.363176</td>\n",
              "      <td>0.920169</td>\n",
              "      <td>0.003530</td>\n",
              "    </tr>\n",
              "  </tbody>\n",
              "</table>\n",
              "</div>"
            ],
            "text/plain": [
              "               0         1         2  ...         6         7         8\n",
              "row 1   0.530649  0.888118  0.527234  ...  0.473123  0.155253  0.921948\n",
              "row 2   0.277602  0.367693  0.362415  ...  0.337543  0.013646  0.156494\n",
              "row 3   0.689475  0.280727  0.222514  ...  0.081551  0.443671  0.830029\n",
              "row 4   0.780380  0.998559  0.608070  ...  0.311574  0.225020  0.615077\n",
              "row 5   0.861388  0.805721  0.220411  ...  0.235041  0.709467  0.564861\n",
              "row 6   0.138975  0.258172  0.961590  ...  0.200288  0.435552  0.946054\n",
              "row 7   0.377660  0.505723  0.770645  ...  0.605181  0.798876  0.331023\n",
              "row 8   0.368674  0.121371  0.741256  ...  0.125042  0.296960  0.381510\n",
              "row 9   0.160647  0.591190  0.905556  ...  0.335330  0.064799  0.687124\n",
              "row 10  0.312243  0.780345  0.050835  ...  0.363176  0.920169  0.003530\n",
              "\n",
              "[10 rows x 9 columns]"
            ]
          },
          "metadata": {
            "tags": []
          },
          "execution_count": 7
        }
      ]
    },
    {
      "cell_type": "code",
      "metadata": {
        "colab": {
          "base_uri": "https://localhost:8080/",
          "height": 202
        },
        "id": "ujXtvBj7X2PF",
        "outputId": "58169e1b-de2f-473c-92e5-971dfced5fb8"
      },
      "source": [
        "df.head()"
      ],
      "execution_count": 8,
      "outputs": [
        {
          "output_type": "execute_result",
          "data": {
            "text/html": [
              "<div>\n",
              "<style scoped>\n",
              "    .dataframe tbody tr th:only-of-type {\n",
              "        vertical-align: middle;\n",
              "    }\n",
              "\n",
              "    .dataframe tbody tr th {\n",
              "        vertical-align: top;\n",
              "    }\n",
              "\n",
              "    .dataframe thead th {\n",
              "        text-align: right;\n",
              "    }\n",
              "</style>\n",
              "<table border=\"1\" class=\"dataframe\">\n",
              "  <thead>\n",
              "    <tr style=\"text-align: right;\">\n",
              "      <th></th>\n",
              "      <th>0</th>\n",
              "      <th>1</th>\n",
              "      <th>2</th>\n",
              "      <th>3</th>\n",
              "      <th>4</th>\n",
              "      <th>5</th>\n",
              "      <th>6</th>\n",
              "      <th>7</th>\n",
              "      <th>8</th>\n",
              "    </tr>\n",
              "  </thead>\n",
              "  <tbody>\n",
              "    <tr>\n",
              "      <th>row 1</th>\n",
              "      <td>0.530649</td>\n",
              "      <td>0.888118</td>\n",
              "      <td>0.527234</td>\n",
              "      <td>0.940012</td>\n",
              "      <td>0.725598</td>\n",
              "      <td>0.318463</td>\n",
              "      <td>0.473123</td>\n",
              "      <td>0.155253</td>\n",
              "      <td>0.921948</td>\n",
              "    </tr>\n",
              "    <tr>\n",
              "      <th>row 2</th>\n",
              "      <td>0.277602</td>\n",
              "      <td>0.367693</td>\n",
              "      <td>0.362415</td>\n",
              "      <td>0.947049</td>\n",
              "      <td>0.775439</td>\n",
              "      <td>0.024221</td>\n",
              "      <td>0.337543</td>\n",
              "      <td>0.013646</td>\n",
              "      <td>0.156494</td>\n",
              "    </tr>\n",
              "    <tr>\n",
              "      <th>row 3</th>\n",
              "      <td>0.689475</td>\n",
              "      <td>0.280727</td>\n",
              "      <td>0.222514</td>\n",
              "      <td>0.386906</td>\n",
              "      <td>0.277926</td>\n",
              "      <td>0.088432</td>\n",
              "      <td>0.081551</td>\n",
              "      <td>0.443671</td>\n",
              "      <td>0.830029</td>\n",
              "    </tr>\n",
              "    <tr>\n",
              "      <th>row 4</th>\n",
              "      <td>0.780380</td>\n",
              "      <td>0.998559</td>\n",
              "      <td>0.608070</td>\n",
              "      <td>0.389267</td>\n",
              "      <td>0.347717</td>\n",
              "      <td>0.537090</td>\n",
              "      <td>0.311574</td>\n",
              "      <td>0.225020</td>\n",
              "      <td>0.615077</td>\n",
              "    </tr>\n",
              "    <tr>\n",
              "      <th>row 5</th>\n",
              "      <td>0.861388</td>\n",
              "      <td>0.805721</td>\n",
              "      <td>0.220411</td>\n",
              "      <td>0.960960</td>\n",
              "      <td>0.607453</td>\n",
              "      <td>0.862082</td>\n",
              "      <td>0.235041</td>\n",
              "      <td>0.709467</td>\n",
              "      <td>0.564861</td>\n",
              "    </tr>\n",
              "  </tbody>\n",
              "</table>\n",
              "</div>"
            ],
            "text/plain": [
              "               0         1         2  ...         6         7         8\n",
              "row 1   0.530649  0.888118  0.527234  ...  0.473123  0.155253  0.921948\n",
              "row 2   0.277602  0.367693  0.362415  ...  0.337543  0.013646  0.156494\n",
              "row 3   0.689475  0.280727  0.222514  ...  0.081551  0.443671  0.830029\n",
              "row 4   0.780380  0.998559  0.608070  ...  0.311574  0.225020  0.615077\n",
              "row 5   0.861388  0.805721  0.220411  ...  0.235041  0.709467  0.564861\n",
              "\n",
              "[5 rows x 9 columns]"
            ]
          },
          "metadata": {
            "tags": []
          },
          "execution_count": 8
        }
      ]
    },
    {
      "cell_type": "code",
      "metadata": {
        "id": "JRllZl_T5wkB"
      },
      "source": [
        "df.to_csv(\"test1.csv\")"
      ],
      "execution_count": 9,
      "outputs": []
    },
    {
      "cell_type": "code",
      "metadata": {
        "colab": {
          "base_uri": "https://localhost:8080/"
        },
        "id": "HDR9ERTk50v1",
        "outputId": "f5f636f5-9433-471e-f6f1-307481e9d7a4"
      },
      "source": [
        "df.loc['row 1']"
      ],
      "execution_count": 11,
      "outputs": [
        {
          "output_type": "execute_result",
          "data": {
            "text/plain": [
              "0    0.530649\n",
              "1    0.888118\n",
              "2    0.527234\n",
              "3    0.940012\n",
              "4    0.725598\n",
              "5    0.318463\n",
              "6    0.473123\n",
              "7    0.155253\n",
              "8    0.921948\n",
              "Name: row 1, dtype: float64"
            ]
          },
          "metadata": {
            "tags": []
          },
          "execution_count": 11
        }
      ]
    },
    {
      "cell_type": "code",
      "metadata": {
        "colab": {
          "base_uri": "https://localhost:8080/"
        },
        "id": "ptmDfkCH6Qwy",
        "outputId": "6ec8704c-f62b-410f-96e8-7591a18c7e21"
      },
      "source": [
        "type(df.loc['row 1'])"
      ],
      "execution_count": 12,
      "outputs": [
        {
          "output_type": "execute_result",
          "data": {
            "text/plain": [
              "pandas.core.series.Series"
            ]
          },
          "metadata": {
            "tags": []
          },
          "execution_count": 12
        }
      ]
    },
    {
      "cell_type": "code",
      "metadata": {
        "colab": {
          "base_uri": "https://localhost:8080/",
          "height": 141
        },
        "id": "1NgCrQEP6VOC",
        "outputId": "0ce17c07-9d3d-4155-cd1b-2e555e2bc29c"
      },
      "source": [
        "df.iloc[0:3,0:4]"
      ],
      "execution_count": 13,
      "outputs": [
        {
          "output_type": "execute_result",
          "data": {
            "text/html": [
              "<div>\n",
              "<style scoped>\n",
              "    .dataframe tbody tr th:only-of-type {\n",
              "        vertical-align: middle;\n",
              "    }\n",
              "\n",
              "    .dataframe tbody tr th {\n",
              "        vertical-align: top;\n",
              "    }\n",
              "\n",
              "    .dataframe thead th {\n",
              "        text-align: right;\n",
              "    }\n",
              "</style>\n",
              "<table border=\"1\" class=\"dataframe\">\n",
              "  <thead>\n",
              "    <tr style=\"text-align: right;\">\n",
              "      <th></th>\n",
              "      <th>0</th>\n",
              "      <th>1</th>\n",
              "      <th>2</th>\n",
              "      <th>3</th>\n",
              "    </tr>\n",
              "  </thead>\n",
              "  <tbody>\n",
              "    <tr>\n",
              "      <th>row 1</th>\n",
              "      <td>0.530649</td>\n",
              "      <td>0.888118</td>\n",
              "      <td>0.527234</td>\n",
              "      <td>0.940012</td>\n",
              "    </tr>\n",
              "    <tr>\n",
              "      <th>row 2</th>\n",
              "      <td>0.277602</td>\n",
              "      <td>0.367693</td>\n",
              "      <td>0.362415</td>\n",
              "      <td>0.947049</td>\n",
              "    </tr>\n",
              "    <tr>\n",
              "      <th>row 3</th>\n",
              "      <td>0.689475</td>\n",
              "      <td>0.280727</td>\n",
              "      <td>0.222514</td>\n",
              "      <td>0.386906</td>\n",
              "    </tr>\n",
              "  </tbody>\n",
              "</table>\n",
              "</div>"
            ],
            "text/plain": [
              "               0         1         2         3\n",
              "row 1   0.530649  0.888118  0.527234  0.940012\n",
              "row 2   0.277602  0.367693  0.362415  0.947049\n",
              "row 3   0.689475  0.280727  0.222514  0.386906"
            ]
          },
          "metadata": {
            "tags": []
          },
          "execution_count": 13
        }
      ]
    },
    {
      "cell_type": "code",
      "metadata": {
        "colab": {
          "base_uri": "https://localhost:8080/",
          "height": 171
        },
        "id": "g55ydSnj6nwa",
        "outputId": "c0505f44-7528-4b92-de03-bb907ca12434"
      },
      "source": [
        "df.iloc[3:7,4:9]"
      ],
      "execution_count": 15,
      "outputs": [
        {
          "output_type": "execute_result",
          "data": {
            "text/html": [
              "<div>\n",
              "<style scoped>\n",
              "    .dataframe tbody tr th:only-of-type {\n",
              "        vertical-align: middle;\n",
              "    }\n",
              "\n",
              "    .dataframe tbody tr th {\n",
              "        vertical-align: top;\n",
              "    }\n",
              "\n",
              "    .dataframe thead th {\n",
              "        text-align: right;\n",
              "    }\n",
              "</style>\n",
              "<table border=\"1\" class=\"dataframe\">\n",
              "  <thead>\n",
              "    <tr style=\"text-align: right;\">\n",
              "      <th></th>\n",
              "      <th>4</th>\n",
              "      <th>5</th>\n",
              "      <th>6</th>\n",
              "      <th>7</th>\n",
              "      <th>8</th>\n",
              "    </tr>\n",
              "  </thead>\n",
              "  <tbody>\n",
              "    <tr>\n",
              "      <th>row 4</th>\n",
              "      <td>0.347717</td>\n",
              "      <td>0.537090</td>\n",
              "      <td>0.311574</td>\n",
              "      <td>0.225020</td>\n",
              "      <td>0.615077</td>\n",
              "    </tr>\n",
              "    <tr>\n",
              "      <th>row 5</th>\n",
              "      <td>0.607453</td>\n",
              "      <td>0.862082</td>\n",
              "      <td>0.235041</td>\n",
              "      <td>0.709467</td>\n",
              "      <td>0.564861</td>\n",
              "    </tr>\n",
              "    <tr>\n",
              "      <th>row 6</th>\n",
              "      <td>0.565577</td>\n",
              "      <td>0.992344</td>\n",
              "      <td>0.200288</td>\n",
              "      <td>0.435552</td>\n",
              "      <td>0.946054</td>\n",
              "    </tr>\n",
              "    <tr>\n",
              "      <th>row 7</th>\n",
              "      <td>0.655018</td>\n",
              "      <td>0.874520</td>\n",
              "      <td>0.605181</td>\n",
              "      <td>0.798876</td>\n",
              "      <td>0.331023</td>\n",
              "    </tr>\n",
              "  </tbody>\n",
              "</table>\n",
              "</div>"
            ],
            "text/plain": [
              "               4         5         6         7         8\n",
              "row 4   0.347717  0.537090  0.311574  0.225020  0.615077\n",
              "row 5   0.607453  0.862082  0.235041  0.709467  0.564861\n",
              "row 6   0.565577  0.992344  0.200288  0.435552  0.946054\n",
              "row 7   0.655018  0.874520  0.605181  0.798876  0.331023"
            ]
          },
          "metadata": {
            "tags": []
          },
          "execution_count": 15
        }
      ]
    },
    {
      "cell_type": "code",
      "metadata": {
        "colab": {
          "base_uri": "https://localhost:8080/"
        },
        "id": "nepSSFji6vcz",
        "outputId": "b600da8d-4773-442c-f41d-1253f22fd7b1"
      },
      "source": [
        "type(df.iloc[3:7,4:9])"
      ],
      "execution_count": 16,
      "outputs": [
        {
          "output_type": "execute_result",
          "data": {
            "text/plain": [
              "pandas.core.frame.DataFrame"
            ]
          },
          "metadata": {
            "tags": []
          },
          "execution_count": 16
        }
      ]
    },
    {
      "cell_type": "code",
      "metadata": {
        "id": "Q5_I4PAK_0C5"
      },
      "source": [
        "#convert dataframes into arrays\n",
        "a=df.iloc[4:7,0:5].values"
      ],
      "execution_count": 22,
      "outputs": []
    },
    {
      "cell_type": "code",
      "metadata": {
        "colab": {
          "base_uri": "https://localhost:8080/"
        },
        "id": "CHcCXQ9lAxl6",
        "outputId": "40c73e5a-5ad7-4329-b273-c7d164cbf487"
      },
      "source": [
        "a"
      ],
      "execution_count": 23,
      "outputs": [
        {
          "output_type": "execute_result",
          "data": {
            "text/plain": [
              "array([[0.8613878 , 0.80572142, 0.2204105 , 0.96095996, 0.60745342],\n",
              "       [0.13897516, 0.25817228, 0.96158984, 0.08397994, 0.56557736],\n",
              "       [0.37766024, 0.50572306, 0.77064519, 0.5324642 , 0.65501826]])"
            ]
          },
          "metadata": {
            "tags": []
          },
          "execution_count": 23
        }
      ]
    },
    {
      "cell_type": "code",
      "metadata": {
        "colab": {
          "base_uri": "https://localhost:8080/"
        },
        "id": "bKViIKoPAQyD",
        "outputId": "3bbef49e-04f8-41d3-cad1-5316b093fc00"
      },
      "source": [
        "df.iloc[4:7,0:5].values.shape"
      ],
      "execution_count": 24,
      "outputs": [
        {
          "output_type": "execute_result",
          "data": {
            "text/plain": [
              "(3, 5)"
            ]
          },
          "metadata": {
            "tags": []
          },
          "execution_count": 24
        }
      ]
    },
    {
      "cell_type": "code",
      "metadata": {
        "colab": {
          "base_uri": "https://localhost:8080/"
        },
        "id": "KFE_OCBDAprk",
        "outputId": "49ec8881-bef2-4177-fdbb-7c8ed9e06907"
      },
      "source": [
        "df.isnull().sum()"
      ],
      "execution_count": 27,
      "outputs": [
        {
          "output_type": "execute_result",
          "data": {
            "text/plain": [
              "0    0\n",
              "1    0\n",
              "2    0\n",
              "3    0\n",
              "4    0\n",
              "5    0\n",
              "6    0\n",
              "7    0\n",
              "8    0\n",
              "dtype: int64"
            ]
          },
          "metadata": {
            "tags": []
          },
          "execution_count": 27
        }
      ]
    },
    {
      "cell_type": "code",
      "metadata": {
        "colab": {
          "base_uri": "https://localhost:8080/"
        },
        "id": "fHfDXbqEA-Ua",
        "outputId": "b2f3d96d-3e32-400f-f5d5-a172fd74265d"
      },
      "source": [
        "df[8].value_counts()"
      ],
      "execution_count": 33,
      "outputs": [
        {
          "output_type": "execute_result",
          "data": {
            "text/plain": [
              "0.381510    1\n",
              "0.331023    1\n",
              "0.687124    1\n",
              "0.946054    1\n",
              "0.156494    1\n",
              "0.615077    1\n",
              "0.003530    1\n",
              "0.564861    1\n",
              "0.921948    1\n",
              "0.830029    1\n",
              "Name: 8, dtype: int64"
            ]
          },
          "metadata": {
            "tags": []
          },
          "execution_count": 33
        }
      ]
    },
    {
      "cell_type": "code",
      "metadata": {
        "colab": {
          "base_uri": "https://localhost:8080/"
        },
        "id": "vg130_wZBh9n",
        "outputId": "1048ad6d-08e4-4a07-c7d7-f763cbfb35e1"
      },
      "source": [
        "df[8].unique()"
      ],
      "execution_count": 34,
      "outputs": [
        {
          "output_type": "execute_result",
          "data": {
            "text/plain": [
              "array([0.92194765, 0.15649392, 0.8300285 , 0.61507718, 0.56486109,\n",
              "       0.94605409, 0.33102287, 0.38150994, 0.68712427, 0.0035298 ])"
            ]
          },
          "metadata": {
            "tags": []
          },
          "execution_count": 34
        }
      ]
    }
  ]
}